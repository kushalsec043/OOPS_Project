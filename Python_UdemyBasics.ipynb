{
 "cells": [
  {
   "cell_type": "code",
   "execution_count": 31,
   "metadata": {},
   "outputs": [
    {
     "name": "stdout",
     "output_type": "stream",
     "text": [
      "Enter a positive integer >= 1: 0\n",
      "Sum equals:  0\n"
     ]
    }
   ],
   "source": [
    "def sum(a):\n",
    "    # tips: use while loop to calculate the value and return\n",
    "    \n",
    "    total = 0\n",
    "    if a >= 1:\n",
    "        total += a + sum(a-1)\n",
    "    return(total) \n",
    "    \n",
    "integer = int(input(\"Enter a positive integer >= 1: \"))\n",
    "result = sum(integer)\n",
    "print(\"Sum equals: \", result)"
   ]
  },
  {
   "cell_type": "code",
   "execution_count": 35,
   "metadata": {},
   "outputs": [
    {
     "data": {
      "text/plain": [
       "'first'"
      ]
     },
     "execution_count": 35,
     "metadata": {},
     "output_type": "execute_result"
    }
   ],
   "source": [
    "class Witch:\n",
    "    def __init__(self,name,level):\n",
    "        self.name = name\n",
    "        self.level = level\n",
    "        \n",
    "first_witch = Witch('first',1)\n",
    "first_witch.name"
   ]
  },
  {
   "cell_type": "code",
   "execution_count": null,
   "metadata": {},
   "outputs": [],
   "source": []
  }
 ],
 "metadata": {
  "kernelspec": {
   "display_name": "Python 3",
   "language": "python",
   "name": "python3"
  },
  "language_info": {
   "codemirror_mode": {
    "name": "ipython",
    "version": 3
   },
   "file_extension": ".py",
   "mimetype": "text/x-python",
   "name": "python",
   "nbconvert_exporter": "python",
   "pygments_lexer": "ipython3",
   "version": "3.7.6"
  }
 },
 "nbformat": 4,
 "nbformat_minor": 4
}
