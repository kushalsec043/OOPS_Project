{
 "cells": [
  {
   "cell_type": "code",
   "execution_count": null,
   "metadata": {},
   "outputs": [],
   "source": [
    "class Node:\n",
    "    def __init__(self, val):\n",
    "        self.value = val\n",
    "        self.next = None  # initially there is 1 node in link list, so no reference\n",
    "\n",
    "\n",
    "class linkedList:\n",
    "    def __init__(self):\n",
    "        self.start = None  # initially the node is empty\n",
    "\n",
    "    def insert(self, val):\n",
    "        if self.start is None:\n",
    "            self.start = Node(val)\n",
    "            return\n",
    "        current = self.start\n",
    "        while current.next is not None:\n",
    "            current = current.next\n",
    "        current.next = Node(val)\n",
    "\n",
    "    def show(self):\n",
    "        current = self.start\n",
    "        while current is not None:\n",
    "            print(current.value)\n",
    "            current = current.next\n",
    "\n",
    "\n",
    "linkList = linkedList()\n",
    "linkList.insert(2)\n",
    "linkList.insert(5)\n",
    "linkList.insert(3)\n",
    "linkList.show()"
   ]
  }
 ],
 "metadata": {
  "kernelspec": {
   "display_name": "Python 3",
   "language": "python",
   "name": "python3"
  },
  "language_info": {
   "codemirror_mode": {
    "name": "ipython",
    "version": 3
   },
   "file_extension": ".py",
   "mimetype": "text/x-python",
   "name": "python",
   "nbconvert_exporter": "python",
   "pygments_lexer": "ipython3",
   "version": "3.7.6"
  }
 },
 "nbformat": 4,
 "nbformat_minor": 4
}
